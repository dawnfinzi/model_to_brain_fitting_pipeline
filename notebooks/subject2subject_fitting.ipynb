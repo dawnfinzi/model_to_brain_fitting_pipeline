{
 "cells": [
  {
   "cell_type": "code",
   "execution_count": 19,
   "id": "confirmed-saver",
   "metadata": {},
   "outputs": [],
   "source": [
    "import argparse\n",
    "import pandas as pd\n",
    "import numpy as np\n",
    "import scipy.io\n",
    "import nibabel.freesurfer.mghformat as mgh\n",
    "import h5py\n",
    "import os\n",
    "from sklearn.cross_decomposition import PLSRegression\n",
    "from fracridge import FracRidgeRegressor\n",
    "import scipy.stats as stats"
   ]
  },
  {
   "cell_type": "code",
   "execution_count": 2,
   "id": "adolescent-hawaii",
   "metadata": {},
   "outputs": [],
   "source": [
    "oakzfs_stem = '/sni-storage/kalanit/Projects/Dawn/NSD/'\n",
    "\n",
    "UTILS_PATH = oakzfs_stem + 'code/fit_pipeline/utils/'\n",
    "BETA_PATH = oakzfs_stem + 'local_data/processed/organized_betas/'\n",
    "STIM_PATH = oakzfs_stem + 'data/nsddata_stimuli/stimuli/nsd/'\n",
    "NSDDATA_PATH = oakzfs_stem + 'data/nsddata/'\n",
    "FS_PATH = oakzfs_stem + 'local_data/freesurfer/'\n",
    "FEATS_PATH = oakzfs_stem + 'code/fit_pipeline/models/features/'\n",
    "RESULTS_PATH = oakzfs_stem + 'results/'\n"
   ]
  },
  {
   "cell_type": "code",
   "execution_count": 3,
   "id": "equal-talent",
   "metadata": {},
   "outputs": [],
   "source": [
    "\n",
    "# how many times each image was shown\n",
    "N_REPEATS = 3\n",
    "\n",
    "# layer names for different models\n",
    "ALEXNET_LAYERS = ['conv1', 'conv2', 'conv3', 'conv4', 'conv5', 'fc6', 'fc7']"
   ]
  },
  {
   "cell_type": "code",
   "execution_count": 4,
   "id": "continental-brooks",
   "metadata": {},
   "outputs": [],
   "source": [
    "import sys\n",
    "sys.path.append(UTILS_PATH)\n",
    "\n",
    "from rsm_utils import get_ROI_data\n",
    "import regression_utils as rutils"
   ]
  },
  {
   "cell_type": "code",
   "execution_count": 5,
   "id": "gorgeous-fleet",
   "metadata": {},
   "outputs": [],
   "source": [
    "subj = \"02\"\n",
    "hemi = \"rh\"\n",
    "roi = \"streams_shrink10\"\n",
    "sub_roi = \"ventral\"\n",
    "sub_roix = 5"
   ]
  },
  {
   "cell_type": "code",
   "execution_count": 6,
   "id": "fewer-income",
   "metadata": {},
   "outputs": [],
   "source": [
    "def get_indices(subj):\n",
    "    \n",
    "    order = scipy.io.loadmat(BETA_PATH + 'datab3nativesurface_subj' + subj)\n",
    "    data = pd.read_csv(NSDDATA_PATH + 'ppdata/subj' + subj + '/behav/responses.tsv', sep='\\t')\n",
    "    expdesign = scipy.io.loadmat(NSDDATA_PATH + 'experiments/nsd/nsd_expdesign.mat')\n",
    "    \n",
    "    #73KIDs\n",
    "    all_ids = np.array(data['73KID'])\n",
    "    vals, idx_start, count = np.unique(all_ids, return_counts=True, return_index=True)\n",
    "    which_reps = vals[count == N_REPEATS]\n",
    "    mask_3reps = np.isin(all_ids,which_reps)\n",
    "    id_nums_3reps = np.array(data['73KID'])[mask_3reps]\n",
    "    rep_vals = np.unique(id_nums_3reps) #sorted version of beta order\n",
    "    \n",
    "    #how the betas are ordered (using COCO 73K id numbers)\n",
    "    beta_order_in_73Kids = all_ids[order['allixs'][0]-1]-1 #-1 to convert from matlab to python indexing\n",
    "    \n",
    "    # shared (i.e. validation) IDS (but include all potential shared reps for the subj, not min across subjs)\n",
    "    sharedix = expdesign['sharedix'][0]\n",
    "    validation_mask = np.isin(rep_vals,sharedix)\n",
    "\n",
    "    return beta_order_in_73Kids, validation_mask"
   ]
  },
  {
   "cell_type": "code",
   "execution_count": 7,
   "id": "threatened-botswana",
   "metadata": {},
   "outputs": [],
   "source": [
    "subj_keys = [\"01\", \"05\", \"07\"] #only use subjects with all 10k trials"
   ]
  },
  {
   "cell_type": "code",
   "execution_count": 10,
   "id": "velvet-washer",
   "metadata": {},
   "outputs": [],
   "source": [
    "target_betas = h5py.File(BETA_PATH + 'datab3nativesurface_subj' + subj +'_'+ hemi + '_betas.hdf5','r') \n",
    "beta_order_in_73Kids, validation_mask = get_indices(subj)"
   ]
  },
  {
   "cell_type": "code",
   "execution_count": 11,
   "id": "falling-change",
   "metadata": {},
   "outputs": [],
   "source": [
    "# get ROI data to pick which voxels to fit\n",
    "mgh_file = mgh.load(FS_PATH + '/subj' + subj + '/' + hemi + '.' + roi + '.mgz')\n",
    "streams = mgh_file.get_fdata()[:,0,0]\n",
    "\n",
    "#trim and sort betas\n",
    "stream_betas = target_betas['betas'][:,streams == sub_roix]\n",
    "indx=beta_order_in_73Kids.argsort(axis=0)\n",
    "sorted_betas = stream_betas[indx,:]"
   ]
  },
  {
   "cell_type": "code",
   "execution_count": 12,
   "id": "frozen-saying",
   "metadata": {},
   "outputs": [
    {
     "data": {
      "text/plain": [
       "(10000, 9051)"
      ]
     },
     "execution_count": 12,
     "metadata": {},
     "output_type": "execute_result"
    }
   ],
   "source": [
    "stream_betas.shape"
   ]
  },
  {
   "cell_type": "code",
   "execution_count": 13,
   "id": "modified-compound",
   "metadata": {},
   "outputs": [],
   "source": [
    "ordered_validation_betas = sorted_betas[validation_mask,:]"
   ]
  },
  {
   "cell_type": "code",
   "execution_count": 14,
   "id": "proud-municipality",
   "metadata": {},
   "outputs": [
    {
     "name": "stdout",
     "output_type": "stream",
     "text": [
      "01\n",
      "05\n",
      "07\n"
     ]
    }
   ],
   "source": [
    "ordered_source_betas = {}\n",
    "for s in subj_keys:\n",
    "    print(s)\n",
    "    source_betas = h5py.File(BETA_PATH + 'datab3nativesurface_subj' + s + '_'+ hemi + '_betas.hdf5','r') \n",
    "    beta_order_in_73Kids_source, validation_mask_source = get_indices(s)\n",
    "    \n",
    "    # get ROI data to pick which voxels to fit\n",
    "    mgh_file = mgh.load(FS_PATH + '/subj' + s + '/' + hemi + '.' + roi + '.mgz')\n",
    "    source_streams = mgh_file.get_fdata()[:,0,0]\n",
    "\n",
    "    #trim and sort betas\n",
    "    source_stream_betas = source_betas['betas'][:,source_streams == sub_roix]\n",
    "    source_indx=beta_order_in_73Kids_source.argsort(axis=0)\n",
    "    source_sorted_betas = source_stream_betas[source_indx,:]\n",
    "    \n",
    "    ordered_source_betas[s] = source_sorted_betas[validation_mask_source,:]"
   ]
  },
  {
   "cell_type": "code",
   "execution_count": 15,
   "id": "dental-miracle",
   "metadata": {},
   "outputs": [],
   "source": [
    "#all splits for regression training\n",
    "num_splits = 1 #average over two random splits\n",
    "all_splits = rutils.get_splits(data=ordered_validation_betas,\n",
    "                               split_index=0,\n",
    "                               num_splits=num_splits,\n",
    "                               num_per_class_test = 200,\n",
    "                               num_per_class_train = 800)"
   ]
  },
  {
   "cell_type": "code",
   "execution_count": 16,
   "id": "billion-asbestos",
   "metadata": {},
   "outputs": [],
   "source": [
    "#use a different split to cv the number of components?\n",
    "num_splits = 1 #average over two random splits\n",
    "cv_splits = rutils.get_splits(data=ordered_validation_betas,\n",
    "                               split_index=0,\n",
    "                               num_splits=num_splits,\n",
    "                               num_per_class_test = 200,\n",
    "                               num_per_class_train = 800)"
   ]
  },
  {
   "cell_type": "code",
   "execution_count": 17,
   "id": "charming-wales",
   "metadata": {},
   "outputs": [
    {
     "data": {
      "text/plain": [
       "(1000, 7749)"
      ]
     },
     "execution_count": 17,
     "metadata": {},
     "output_type": "execute_result"
    }
   ],
   "source": [
    "ordered_source_betas[\"01\"].shape"
   ]
  },
  {
   "cell_type": "code",
   "execution_count": 30,
   "id": "cubic-treasure",
   "metadata": {},
   "outputs": [
    {
     "name": "stdout",
     "output_type": "stream",
     "text": [
      "evaluating 01\n",
      "0.0775\n",
      "evaluating 05\n",
      "0.049\n",
      "evaluating 07\n",
      "0.055\n"
     ]
    }
   ],
   "source": [
    "all_resdict = {}\n",
    "best_cs = {}\n",
    "\n",
    "cs = [.047, .048, .049, .05, .053, .054, .055, .056, .075, .76, .0775, .079]\n",
    "for s in subj_keys:   #for each subj ...\n",
    "    \n",
    "    print('evaluating %s' % s)\n",
    "    feats = ordered_source_betas[s]\n",
    "    \n",
    "    win_res = 0\n",
    "    for c in cs:\n",
    "        #print('evaluating component %s' % c)\n",
    "\n",
    "        cv_res = rutils.train_and_test_scikit_regressor(features=feats, \n",
    "                                                    labels=ordered_validation_betas,\n",
    "                                                    splits=cv_splits,\n",
    "                                                    model_class=FracRidgeRegressor,\n",
    "                                                    model_args={'fracs': c,\n",
    "                                                               'normalize': False},\n",
    "                                                    feature_norm=False)\n",
    "        if cv_res['test']['mean_rsquared'] > win_res:\n",
    "            win_res = cv_res['test']['mean_rsquared']\n",
    "            best_cs[s] = c\n",
    "    \n",
    "    print(best_cs[s])\n",
    "    res = rutils.train_and_test_scikit_regressor(features=feats, \n",
    "                                                    labels=ordered_validation_betas,\n",
    "                                                    splits=all_splits,\n",
    "                                                    model_class=FracRidgeRegressor,\n",
    "                                                    model_args={'fracs': best_cs[s], #winning num components\n",
    "                                                                'normalize': False},\n",
    "                                                    feature_norm=False)\n",
    "            \n",
    "    all_resdict[s] = res"
   ]
  },
  {
   "cell_type": "code",
   "execution_count": 32,
   "id": "broken-hampshire",
   "metadata": {},
   "outputs": [],
   "source": [
    "rsquared_array = {}\n",
    "for s in subj_keys:\n",
    "    rsquared_array[s] = all_resdict[s]['test']['mean_rsquared_array']"
   ]
  },
  {
   "cell_type": "code",
   "execution_count": 33,
   "id": "herbal-roots",
   "metadata": {},
   "outputs": [
    {
     "name": "stdout",
     "output_type": "stream",
     "text": [
      "01\n",
      "05\n",
      "07\n"
     ]
    }
   ],
   "source": [
    "#save to local data folder\n",
    "h5f = h5py.File(RESULTS_PATH+'fits/subj'+ subj + '_' + hemi + '_' + roi + '_' + sub_roi + '_ridgeCV_othersubjs_fits.hdf5', 'w')\n",
    "for k, v in rsquared_array.items():\n",
    "    print(str(k))\n",
    "    h5f.create_dataset(str(k), data=v)\n",
    "h5f.close()"
   ]
  },
  {
   "cell_type": "code",
   "execution_count": 176,
   "id": "injured-promotion",
   "metadata": {},
   "outputs": [
    {
     "name": "stdout",
     "output_type": "stream",
     "text": [
      "evaluating 01\n",
      "9\n",
      "evaluating 05\n",
      "9\n",
      "evaluating 07\n",
      "9\n"
     ]
    }
   ],
   "source": [
    "all_resdict = {}\n",
    "best_cs = {}\n",
    "\n",
    "cs = [2,3,4,5,6,7,8,9,10,11,12,13,14,15,16,17,18,19,20]\n",
    "for s in subj_keys:   #for each subj ...\n",
    "    \n",
    "    print('evaluating %s' % s)\n",
    "    feats = ordered_source_betas[s]\n",
    "    \n",
    "    win_res = 0\n",
    "    for c in cs:\n",
    "        #print('evaluating component %s' % c)\n",
    "\n",
    "        cv_res = rutils.train_and_test_scikit_regressor(features=feats, \n",
    "                                                    labels=ordered_validation_betas,\n",
    "                                                    splits=cv_splits,\n",
    "                                                    model_class=PLSRegression,\n",
    "                                                    model_args={'n_components': c,\n",
    "                                                                'scale': False},\n",
    "                                                    feature_norm=False)\n",
    "        if cv_res['test']['mean_rsquared'] > win_res:\n",
    "            win_res = cv_res['test']['mean_rsquared']\n",
    "            best_cs[s] = c\n",
    "    \n",
    "    print(best_cs[s])\n",
    "    res = rutils.train_and_test_scikit_regressor(features=feats, \n",
    "                                                    labels=ordered_validation_betas,\n",
    "                                                    splits=all_splits,\n",
    "                                                    model_class=PLSRegression,\n",
    "                                                    model_args={'n_components': best_cs[s], #winning num components\n",
    "                                                                'scale': False},\n",
    "                                                    feature_norm=False)\n",
    "            \n",
    "    all_resdict[s] = res"
   ]
  },
  {
   "cell_type": "code",
   "execution_count": 180,
   "id": "progressive-drove",
   "metadata": {},
   "outputs": [],
   "source": [
    "rsquared_array = {}\n",
    "for s in subj_keys:\n",
    "    rsquared_array[s] = all_resdict[s]['test']['mean_rsquared_array']"
   ]
  },
  {
   "cell_type": "code",
   "execution_count": 29,
   "id": "proprietary-riding",
   "metadata": {},
   "outputs": [
    {
     "ename": "NameError",
     "evalue": "name 'rsquared_array' is not defined",
     "output_type": "error",
     "traceback": [
      "\u001b[0;31m---------------------------------------------------------------------------\u001b[0m",
      "\u001b[0;31mNameError\u001b[0m                                 Traceback (most recent call last)",
      "\u001b[0;32m<ipython-input-29-411f2b213390>\u001b[0m in \u001b[0;36m<module>\u001b[0;34m\u001b[0m\n\u001b[0;32m----> 1\u001b[0;31m \u001b[0mnp\u001b[0m\u001b[0;34m.\u001b[0m\u001b[0mmean\u001b[0m\u001b[0;34m(\u001b[0m\u001b[0mrsquared_array\u001b[0m\u001b[0;34m[\u001b[0m\u001b[0;34m\"01\"\u001b[0m\u001b[0;34m]\u001b[0m\u001b[0;34m)\u001b[0m\u001b[0;34m\u001b[0m\u001b[0;34m\u001b[0m\u001b[0m\n\u001b[0m",
      "\u001b[0;31mNameError\u001b[0m: name 'rsquared_array' is not defined"
     ]
    }
   ],
   "source": [
    "np.mean(rsquared_array[\"01\"])"
   ]
  },
  {
   "cell_type": "code",
   "execution_count": 182,
   "id": "consolidated-adelaide",
   "metadata": {},
   "outputs": [
    {
     "name": "stdout",
     "output_type": "stream",
     "text": [
      "01\n",
      "05\n",
      "07\n"
     ]
    }
   ],
   "source": [
    "#save to local data folder\n",
    "h5f = h5py.File(RESULTS_PATH+'fits/subj'+ subj + '_' + hemi + '_' + roi + '_' + sub_roi + '_othersubjs_fits.hdf5', 'w')\n",
    "for k, v in rsquared_array.items():\n",
    "    print(str(k))\n",
    "    h5f.create_dataset(str(k), data=v)\n",
    "h5f.close()"
   ]
  },
  {
   "cell_type": "code",
   "execution_count": null,
   "id": "southeast-vector",
   "metadata": {},
   "outputs": [],
   "source": []
  }
 ],
 "metadata": {
  "kernelspec": {
   "display_name": "Python 3 (ipykernel)",
   "language": "python",
   "name": "python3"
  },
  "language_info": {
   "codemirror_mode": {
    "name": "ipython",
    "version": 3
   },
   "file_extension": ".py",
   "mimetype": "text/x-python",
   "name": "python",
   "nbconvert_exporter": "python",
   "pygments_lexer": "ipython3",
   "version": "3.8.9"
  }
 },
 "nbformat": 4,
 "nbformat_minor": 5
}
